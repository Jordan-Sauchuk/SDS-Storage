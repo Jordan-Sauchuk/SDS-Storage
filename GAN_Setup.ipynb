{
  "nbformat": 4,
  "nbformat_minor": 0,
  "metadata": {
    "colab": {
      "name": "GAN Setup.ipynb",
      "version": "0.3.2",
      "provenance": [],
      "collapsed_sections": []
    },
    "kernelspec": {
      "name": "python3",
      "display_name": "Python 3"
    },
    "accelerator": "GPU"
  },
  "cells": [
    {
      "metadata": {
        "id": "GGC_aGFQn_ob",
        "colab_type": "code",
        "outputId": "466db6dd-20be-4b66-82dc-6e64d197fff0",
        "colab": {
          "base_uri": "https://localhost:8080/",
          "height": 122
        }
      },
      "cell_type": "code",
      "source": [
        "from google.colab import drive\n",
        "drive.mount('/content/gdrive')\n",
        "#%cd #file path here or go through each "
      ],
      "execution_count": 0,
      "outputs": [
        {
          "output_type": "stream",
          "text": [
            "Go to this URL in a browser: https://accounts.google.com/o/oauth2/auth?client_id=947318989803-6bn6qk8qdgf4n4g3pfee6491hc0brc4i.apps.googleusercontent.com&redirect_uri=urn%3Aietf%3Awg%3Aoauth%3A2.0%3Aoob&scope=email%20https%3A%2F%2Fwww.googleapis.com%2Fauth%2Fdocs.test%20https%3A%2F%2Fwww.googleapis.com%2Fauth%2Fdrive%20https%3A%2F%2Fwww.googleapis.com%2Fauth%2Fdrive.photos.readonly%20https%3A%2F%2Fwww.googleapis.com%2Fauth%2Fpeopleapi.readonly&response_type=code\n",
            "\n",
            "Enter your authorization code:\n",
            "··········\n",
            "Mounted at /content/gdrive\n"
          ],
          "name": "stdout"
        }
      ]
    },
    {
      "metadata": {
        "id": "EAHT_5OnoegQ",
        "colab_type": "code",
        "outputId": "4b4ab3bd-7212-4a4c-d79d-8ae91aea04e4",
        "colab": {
          "base_uri": "https://localhost:8080/",
          "height": 204
        }
      },
      "cell_type": "code",
      "source": [
        "!pip3 uninstall PyTorch\n",
        "!pip3 install https://download.pytorch.org/whl/cu80/torch-0.4.1-cp36-cp36m-linux_x86_64.whl\n",
        "#!pip install torchtext==0.2.3"
      ],
      "execution_count": 0,
      "outputs": [
        {
          "output_type": "stream",
          "text": [
            "\u001b[33mSkipping PyTorch as it is not installed.\u001b[0m\n",
            "Collecting torch==0.1.12.post2 from https://download.pytorch.org/whl/cu80/torch-0.1.12.post2-cp36-cp36m-linux_x86_64.whl\n",
            "  Using cached https://download.pytorch.org/whl/cu80/torch-0.1.12.post2-cp36-cp36m-linux_x86_64.whl\n",
            "Requirement already satisfied: pyyaml in /usr/local/lib/python3.6/dist-packages (from torch==0.1.12.post2) (3.13)\n",
            "\u001b[31mfastai 1.0.49 has requirement numpy>=1.15, but you'll have numpy 1.14.6 which is incompatible.\u001b[0m\n",
            "\u001b[31mfastai 1.0.49 has requirement torch>=1.0.0, but you'll have torch 0.1.12.post2 which is incompatible.\u001b[0m\n",
            "Installing collected packages: torch\n",
            "  Found existing installation: torch 0.3.1\n",
            "    Uninstalling torch-0.3.1:\n",
            "      Successfully uninstalled torch-0.3.1\n",
            "Successfully installed torch-0.1.12.post2\n"
          ],
          "name": "stdout"
        }
      ]
    },
    {
      "metadata": {
        "id": "BMKil8ckpe-P",
        "colab_type": "code",
        "outputId": "b67d39d8-cb59-469e-c9b0-6d7fa2b9449d",
        "colab": {
          "base_uri": "https://localhost:8080/",
          "height": 34
        }
      },
      "cell_type": "code",
      "source": [
        "%ls"
      ],
      "execution_count": 0,
      "outputs": [
        {
          "output_type": "stream",
          "text": [
            "\u001b[0m\u001b[01;34mgdrive\u001b[0m/  \u001b[01;34msample_data\u001b[0m/\n"
          ],
          "name": "stdout"
        }
      ]
    },
    {
      "metadata": {
        "id": "_uPLEfXCqHNc",
        "colab_type": "code",
        "outputId": "e8d3c8fb-f617-4c25-fb7e-6a41931313d1",
        "colab": {
          "base_uri": "https://localhost:8080/",
          "height": 34
        }
      },
      "cell_type": "code",
      "source": [
        "%cd gdrive/My Drive/GAN Setup"
      ],
      "execution_count": 0,
      "outputs": [
        {
          "output_type": "stream",
          "text": [
            "/content/gdrive/My Drive/GAN Setup\n"
          ],
          "name": "stdout"
        }
      ]
    },
    {
      "metadata": {
        "id": "4nzIhGQ7qPbQ",
        "colab_type": "code",
        "colab": {}
      },
      "cell_type": "code",
      "source": [
        "#CPU Version\n",
        "!python dcgan_nocomment.py"
      ],
      "execution_count": 0,
      "outputs": []
    },
    {
      "metadata": {
        "id": "cgcroek4soD-",
        "colab_type": "code",
        "colab": {}
      },
      "cell_type": "code",
      "source": [
        "#CHANGE THE RUN TIME TYPE TO GPU - RUNTIME - CHANGERUNTIME TYPE - GPU "
      ],
      "execution_count": 0,
      "outputs": []
    },
    {
      "metadata": {
        "id": "VD9lGKXFwBhF",
        "colab_type": "code",
        "colab": {}
      },
      "cell_type": "code",
      "source": [
        "# Deep Convolutional GANs\n",
        "\n",
        "# Importing the libraries\n",
        "from __future__ import print_function\n",
        "import torch\n",
        "import torch.nn as nn\n",
        "import torch.nn.parallel\n",
        "import torch.optim as optim\n",
        "import torch.utils.data\n",
        "import torchvision.datasets as dset\n",
        "import torchvision.transforms as transforms\n",
        "import torchvision.utils as vutils\n",
        "from torch.autograd import Variable\n",
        "\n",
        "# Setting some hyperparameters\n",
        "batchSize = 64 # We set the size of the batch.\n",
        "imageSize = 64 # We set the size of the generated images (64x64).\n",
        "\n",
        "# Creating the transformations\n",
        "transform = transforms.Compose([transforms.Scale(imageSize), transforms.ToTensor(), transforms.Normalize((0.5, 0.5, 0.5), (0.5, 0.5, 0.5)),]) # We create a list of transformations (scaling, tensor conversion, normalization) to apply to the input images.\n",
        "\n",
        "# Loading the dataset\n",
        "dataset = dset.CIFAR10(root = './data', download = True, transform = transform) # We download the training set in the ./data folder and we apply the previous transformations on each image.\n",
        "dataloader = torch.utils.data.DataLoader(dataset, batch_size = batchSize, shuffle = True, num_workers = 2) # We use dataLoader to get the images of the training set batch by batch.\n",
        "\n",
        "# Defining the weights_init function that takes as input a neural network m and that will initialize all its weights.\n",
        "def weights_init(m):\n",
        "    classname = m.__class__.__name__\n",
        "    if classname.find('Conv') != -1:\n",
        "        m.weight.data.normal_(0.0, 0.02)\n",
        "    elif classname.find('BatchNorm') != -1:\n",
        "        m.weight.data.normal_(1.0, 0.02)\n",
        "        m.bias.data.fill_(0)\n",
        "\n",
        "\n",
        "\n",
        "\n",
        "\n",
        "\n",
        "\n",
        "# Defining the generator\n",
        "\n",
        "class G(nn.Module): # We introduce a class to define the generator.\n",
        "\n",
        "    def __init__(self): # We introduce the __init__() function that will define the architecture of the generator.\n",
        "        super(G, self).__init__() # We inherit from the nn.Module tools.\n",
        "        self.main = nn.Sequential( # We create a meta module of a neural network that will contain a sequence of modules (convolutions, full connections, etc.).\n",
        "            nn.ConvTranspose2d(100, 512, 4, 1, 0, bias = False), # We start with an inversed convolution.\n",
        "            nn.BatchNorm2d(512), # We normalize all the features along the dimension of the batch.\n",
        "            nn.ReLU(True), # We apply a ReLU rectification to break the linearity.\n",
        "            nn.ConvTranspose2d(512, 256, 4, 2, 1, bias = False), # We add another inversed convolution.\n",
        "            nn.BatchNorm2d(256), # We normalize again.\n",
        "            nn.ReLU(True), # We apply another ReLU.\n",
        "            nn.ConvTranspose2d(256, 128, 4, 2, 1, bias = False), # We add another inversed convolution.\n",
        "            nn.BatchNorm2d(128), # We normalize again.\n",
        "            nn.ReLU(True), # We apply another ReLU.\n",
        "            nn.ConvTranspose2d(128, 64, 4, 2, 1, bias = False), # We add another inversed convolution.\n",
        "            nn.BatchNorm2d(64), # We normalize again.\n",
        "            nn.ReLU(True), # We apply another ReLU.\n",
        "            nn.ConvTranspose2d(64, 3, 4, 2, 1, bias = False), # We add another inversed convolution.\n",
        "            nn.Tanh() # We apply a Tanh rectification to break the linearity and stay between -1 and +1.\n",
        "        )\n",
        "\n",
        "    def forward(self, input): # We define the forward function that takes as argument an input that will be fed to the neural network, and that will return the output containing the generated images.\n",
        "        output = self.main(input) # We forward propagate the signal through the whole neural network of the generator defined by self.main.\n",
        "        return output # We return the output containing the generated images.\n",
        "\n",
        "# Creating the generator\n",
        "netG = G().cuda() # We create the generator object.\n",
        "netG.apply(weights_init) # We initialize all the weights of its neural network.\n",
        "\n",
        "# Defining the discriminator\n",
        "\n",
        "class D(nn.Module): # We introduce a class to define the discriminator.\n",
        "\n",
        "    def __init__(self): # We introduce the __init__() function that will define the architecture of the discriminator.\n",
        "        super(D, self).__init__() # We inherit from the nn.Module tools.\n",
        "        self.main = nn.Sequential( # We create a meta module of a neural network that will contain a sequence of modules (convolutions, full connections, etc.).\n",
        "            nn.Conv2d(3, 64, 4, 2, 1, bias = False), # We start with a convolution.\n",
        "            nn.LeakyReLU(0.2, inplace = True), # We apply a LeakyReLU.\n",
        "            nn.Conv2d(64, 128, 4, 2, 1, bias = False), # We add another convolution.\n",
        "            nn.BatchNorm2d(128), # We normalize all the features along the dimension of the batch.\n",
        "            nn.LeakyReLU(0.2, inplace = True), # We apply another LeakyReLU.\n",
        "            nn.Conv2d(128, 256, 4, 2, 1, bias = False), # We add another convolution.\n",
        "            nn.BatchNorm2d(256), # We normalize again.\n",
        "            nn.LeakyReLU(0.2, inplace = True), # We apply another LeakyReLU.\n",
        "            nn.Conv2d(256, 512, 4, 2, 1, bias = False), # We add another convolution.\n",
        "            nn.BatchNorm2d(512), # We normalize again.\n",
        "            nn.LeakyReLU(0.2, inplace = True), # We apply another LeakyReLU.\n",
        "            nn.Conv2d(512, 1, 4, 1, 0, bias = False), # We add another convolution.\n",
        "            nn.Sigmoid() # We apply a Sigmoid rectification to break the linearity and stay between 0 and 1.\n",
        "        )\n",
        "\n",
        "    def forward(self, input): # We define the forward function that takes as argument an input that will be fed to the neural network, and that will return the output which will be a value between 0 and 1.\n",
        "        output = self.main(input) # We forward propagate the signal through the whole neural network of the discriminator defined by self.main.\n",
        "        return output.view(-1) # We return the output which will be a value between 0 and 1.\n",
        "\n",
        "# Creating the discriminator\n",
        "netD = D().cuda() # We create the discriminator object.\n",
        "netD.apply(weights_init) # We initialize all the weights of its neural network.\n",
        "\n",
        "# Training the DCGANs\n",
        "\n",
        "criterion = nn.BCELoss() # We create a criterion object that will measure the error between the prediction and the target.\n",
        "optimizerD = optim.Adam(netD.parameters(), lr = 0.0002, betas = (0.5, 0.999)) # We create the optimizer object of the discriminator.\n",
        "optimizerG = optim.Adam(netG.parameters(), lr = 0.0002, betas = (0.5, 0.999)) # We create the optimizer object of the generator.\n",
        "\n",
        "for epoch in range(25): # We iterate over 25 epochs.\n",
        "\n",
        "    for i, data in enumerate(dataloader, 0): # We iterate over the images of the dataset.\n",
        "        \n",
        "        # 1st Step: Updating the weights of the neural network of the discriminator\n",
        "\n",
        "        netD.zero_grad() # We initialize to 0 the gradients of the discriminator with respect to the weights.\n",
        "        \n",
        "        # Training the discriminator with a real image of the dataset\n",
        "        real, _ = data # We get a real image of the dataset which will be used to train the discriminator.\n",
        "        input = Variable(real).cuda() # We wrap it in a variable.\n",
        "        target = Variable(torch.ones(input.size()[0])) # We get the target.\n",
        "        output = netD(input) # We forward propagate this real image into the neural network of the discriminator to get the prediction (a value between 0 and 1).\n",
        "        errD_real = criterion(output, target) # We compute the loss between the predictions (output) and the target (equal to 1).\n",
        "        \n",
        "        # Training the discriminator with a fake image generated by the generator\n",
        "        noise = Variable(torch.randn(input.size()[0], 100, 1, 1)).cuda() # We make a random input vector (noise) of the generator.\n",
        "        fake = netG(noise) # We forward propagate this random input vector into the neural network of the generator to get some fake generated images.\n",
        "        target = Variable(torch.zeros(input.size()[0])) # We get the target.\n",
        "        output = netD(fake.detach()) # We forward propagate the fake generated images into the neural network of the discriminator to get the prediction (a value between 0 and 1).\n",
        "        errD_fake = criterion(output, target) # We compute the loss between the prediction (output) and the target (equal to 0).\n",
        "\n",
        "        # Backpropagating the total error\n",
        "        errD = errD_real + errD_fake # We compute the total error of the discriminator.\n",
        "        errD.backward() # We backpropagate the loss error by computing the gradients of the total error with respect to the weights of the discriminator.\n",
        "        optimizerD.step() # We apply the optimizer to update the weights according to how much they are responsible for the loss error of the discriminator.\n",
        "\n",
        "        # 2nd Step: Updating the weights of the neural network of the generator\n",
        "\n",
        "        netG.zero_grad() # We initialize to 0 the gradients of the generator with respect to the weights.\n",
        "        target = Variable(torch.ones(input.size()[0])) # We get the target.\n",
        "        output = netD(fake) # We forward propagate the fake generated images into the neural network of the discriminator to get the prediction (a value between 0 and 1).\n",
        "        errG = criterion(output, target) # We compute the loss between the prediction (output between 0 and 1) and the target (equal to 1).\n",
        "        errG.backward() # We backpropagate the loss error by computing the gradients of the total error with respect to the weights of the generator.\n",
        "        optimizerG.step() # We apply the optimizer to update the weights according to how much they are responsible for the loss error of the generator.\n",
        "        \n",
        "        # 3rd Step: Printing the losses and saving the real images and the generated images of the minibatch every 100 steps\n",
        "\n",
        "        print('[%d/%d][%d/%d] Loss_D: %.4f Loss_G: %.4f' % (epoch, 25, i, len(dataloader), errD.data[0], errG.data[0])) # We print les losses of the discriminator (Loss_D) and the generator (Loss_G).\n",
        "        if i % 100 == 0: # Every 100 steps:\n",
        "            vutils.save_image(real, '%s/real_samples.png' % \"./results\", normalize = True) # We save the real images of the minibatch.\n",
        "            fake = netG(noise) # We get our fake generated images.\n",
        "            vutils.save_image(fake.data, '%s/fake_samples_epoch_%03d.png' % (\"./results\", epoch), normalize = True) # We also save the fake generated images of the minibatch."
      ],
      "execution_count": 0,
      "outputs": []
    }
  ]
}